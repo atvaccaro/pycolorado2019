{
 "cells": [
  {
   "cell_type": "markdown",
   "metadata": {},
   "source": [
    "# Andrew Vaccaro\n",
    "    BS in Software Engineering\n",
    "    Data engineer at Empiric Health\n",
    "    Co-organizer of PyData Denver\n",
    "    andrew.vaccaro@empirichealth.com"
   ]
  },
  {
   "cell_type": "markdown",
   "metadata": {},
   "source": [
    "## profiling"
   ]
  },
  {
   "cell_type": "code",
   "execution_count": null,
   "metadata": {},
   "outputs": [],
   "source": [
    "%time print('Hello, world.')"
   ]
  },
  {
   "cell_type": "code",
   "execution_count": null,
   "metadata": {},
   "outputs": [],
   "source": [
    "import time\n",
    "\n",
    "def count():\n",
    "    time.sleep(1)\n",
    "    print('Done.')\n",
    "\n",
    "%time count()\n",
    "%timeit count()"
   ]
  },
  {
   "cell_type": "markdown",
   "metadata": {},
   "source": [
    "## some data"
   ]
  },
  {
   "cell_type": "code",
   "execution_count": null,
   "metadata": {},
   "outputs": [],
   "source": [
    "import pandas as pd\n",
    "pd.read_csv('insurance.csv').head()"
   ]
  },
  {
   "cell_type": "markdown",
   "metadata": {},
   "source": [
    "## [dtypes](https://docs.scipy.org/doc/numpy/user/basics.types.html)"
   ]
  },
  {
   "cell_type": "code",
   "execution_count": null,
   "metadata": {},
   "outputs": [],
   "source": [
    "df = pd.read_csv('insurance.csv')\n",
    "df.info(verbose=False, memory_usage='deep')\n",
    "df.head()"
   ]
  },
  {
   "cell_type": "code",
   "execution_count": null,
   "metadata": {},
   "outputs": [],
   "source": [
    "df['age'] = df['age'].astype('uint8')\n",
    "df['children'] = df['children'].astype('uint8')\n",
    "df.info(verbose=False, memory_usage='deep')"
   ]
  },
  {
   "cell_type": "code",
   "execution_count": null,
   "metadata": {},
   "outputs": [],
   "source": [
    "df['bmi'] = df['bmi'].astype('float32')\n",
    "df['charges'] = df['charges'].astype('float32')\n",
    "df.info(verbose=False, memory_usage='deep')"
   ]
  },
  {
   "cell_type": "code",
   "execution_count": null,
   "metadata": {},
   "outputs": [],
   "source": [
    "df['smoker'] = df['smoker'].map({'no': 0, 'yes': 1}).astype('uint8')\n",
    "df.info(verbose=False, memory_usage='deep')"
   ]
  },
  {
   "cell_type": "code",
   "execution_count": null,
   "metadata": {},
   "outputs": [],
   "source": [
    "df.select_dtypes(include=['uint8']).head()"
   ]
  },
  {
   "cell_type": "markdown",
   "metadata": {},
   "source": [
    "## [categoricals](https://pandas.pydata.org/pandas-docs/stable/user_guide/categorical.html)"
   ]
  },
  {
   "cell_type": "code",
   "execution_count": null,
   "metadata": {},
   "outputs": [],
   "source": [
    "df.select_dtypes(include=['object']).describe()"
   ]
  },
  {
   "cell_type": "code",
   "execution_count": null,
   "metadata": {},
   "outputs": [],
   "source": [
    "df['region'].astype('category').head()"
   ]
  },
  {
   "cell_type": "code",
   "execution_count": null,
   "metadata": {},
   "outputs": [],
   "source": [
    "df['region'].nbytes"
   ]
  },
  {
   "cell_type": "code",
   "execution_count": null,
   "metadata": {},
   "outputs": [],
   "source": [
    "df['region'].astype('category').nbytes"
   ]
  },
  {
   "cell_type": "code",
   "execution_count": null,
   "metadata": {},
   "outputs": [],
   "source": [
    "for c in df.select_dtypes(include=[object]):\n",
    "    df[c] = df[c].astype('category')\n",
    "df.info(verbose=False, memory_usage='deep')\n",
    "df.dtypes"
   ]
  },
  {
   "cell_type": "code",
   "execution_count": null,
   "metadata": {},
   "outputs": [],
   "source": [
    "df['smoker'] = df['smoker'].map({0: 'no', 1: 'yes'}).astype('category')\n",
    "df.info(verbose=False, memory_usage='deep')"
   ]
  },
  {
   "cell_type": "code",
   "execution_count": null,
   "metadata": {},
   "outputs": [],
   "source": [
    "df.head()"
   ]
  },
  {
   "cell_type": "code",
   "execution_count": null,
   "metadata": {},
   "outputs": [],
   "source": [
    "df.iloc[0]['smoker'] == 'yes'"
   ]
  },
  {
   "cell_type": "code",
   "execution_count": null,
   "metadata": {},
   "outputs": [],
   "source": [
    "df['smoker'].nbytes"
   ]
  },
  {
   "cell_type": "code",
   "execution_count": null,
   "metadata": {},
   "outputs": [],
   "source": [
    "df['smoker'].map({'no': 0, 'yes': 1}).astype('uint8').nbytes"
   ]
  },
  {
   "cell_type": "markdown",
   "metadata": {},
   "source": [
    "### new categorical values"
   ]
  },
  {
   "cell_type": "code",
   "execution_count": null,
   "metadata": {},
   "outputs": [],
   "source": [
    "df['region'].dtype"
   ]
  },
  {
   "cell_type": "code",
   "execution_count": null,
   "metadata": {},
   "outputs": [],
   "source": [
    "regions = df['region'].copy()\n",
    "regions[0] = 'east'"
   ]
  },
  {
   "cell_type": "code",
   "execution_count": null,
   "metadata": {},
   "outputs": [],
   "source": [
    "regions = regions.cat.add_categories(['east'])\n",
    "regions[0] = 'east'\n",
    "regions.dtype"
   ]
  },
  {
   "cell_type": "code",
   "execution_count": null,
   "metadata": {},
   "outputs": [],
   "source": [
    "regions.apply(lambda s: s.upper()).head()"
   ]
  },
  {
   "cell_type": "code",
   "execution_count": null,
   "metadata": {},
   "outputs": [],
   "source": [
    "df = pd.read_csv('insurance.csv', dtype={\n",
    "    'age': 'uint8',\n",
    "    'sex': 'category',\n",
    "    'bmi': 'float32',\n",
    "    'children': 'uint8',\n",
    "    'smoker': 'category',\n",
    "    'region': 'category',\n",
    "    'charges': 'float32'\n",
    "})\n",
    "df.info(verbose=False, memory_usage='deep')\n",
    "df.head()"
   ]
  },
  {
   "cell_type": "markdown",
   "metadata": {},
   "source": [
    "### when not to use categoricals"
   ]
  },
  {
   "cell_type": "code",
   "execution_count": null,
   "metadata": {},
   "outputs": [],
   "source": [
    "import random\n",
    "import string\n",
    "\n",
    "def gen_id():\n",
    "    return ''.join(random.choices(string.ascii_uppercase + string.digits, k=4))\n",
    "\n",
    "def gen_df(n):\n",
    "    return pd.DataFrame([gen_id() for _ in range(n)], columns=['id'])\n",
    "\n",
    "df = gen_df(1000)\n",
    "df.head()"
   ]
  },
  {
   "cell_type": "code",
   "execution_count": null,
   "metadata": {},
   "outputs": [],
   "source": [
    "df = gen_df(100_000)\n",
    "df.info(verbose=False, memory_usage='deep')\n",
    "df['id'] = df['id'].astype('category')\n",
    "df.info(verbose=False, memory_usage='deep')"
   ]
  },
  {
   "cell_type": "code",
   "execution_count": null,
   "metadata": {},
   "outputs": [],
   "source": [
    "df = pd.DataFrame(['Jul 31, 2009', '2010-01-10', None], columns=['dtm'])\n",
    "df.info(verbose=False, memory_usage='deep')\n",
    "df['dtm'] = pd.to_datetime(df['dtm'])\n",
    "df.info(verbose=False, memory_usage='deep')"
   ]
  },
  {
   "cell_type": "markdown",
   "metadata": {},
   "source": [
    "## looping"
   ]
  },
  {
   "cell_type": "code",
   "execution_count": null,
   "metadata": {},
   "outputs": [],
   "source": [
    "cc_df = pd.read_csv('creditcard_short.csv')\n",
    "cc_df.info(verbose=False, memory_usage='deep')\n",
    "cc_df.head()"
   ]
  },
  {
   "cell_type": "code",
   "execution_count": null,
   "metadata": {},
   "outputs": [],
   "source": [
    "def naive(df):\n",
    "    for i in range(0, len(df)):\n",
    "        df.loc[i, 'Amount'] = df.loc[i, 'Amount'] * 100\n",
    "    return df\n",
    "\n",
    "df = cc_df.copy()\n",
    "%time df = naive(df)\n",
    "df['Amount'].sum()"
   ]
  },
  {
   "cell_type": "code",
   "execution_count": null,
   "metadata": {},
   "outputs": [],
   "source": [
    "def naive_assign(df):\n",
    "    amounts = []\n",
    "    for i in range(0, len(df)):\n",
    "        amounts.append(df.iloc[i]['Amount'] * 100)\n",
    "    df['Amount'] = amounts\n",
    "    return df\n",
    "\n",
    "df = cc_df.copy()\n",
    "%time df = naive_assign(df)\n",
    "df['Amount'].sum()"
   ]
  },
  {
   "cell_type": "code",
   "execution_count": null,
   "metadata": {},
   "outputs": [],
   "source": [
    "def iterrows(df):\n",
    "    amounts = []\n",
    "    for index, row in df.iterrows():\n",
    "        amounts.append(row['Amount'] * 100)\n",
    "    df['Amount'] = amounts\n",
    "    return df\n",
    "                   \n",
    "df = cc_df.copy()\n",
    "%time df = iterrows(df)\n",
    "df['Amount'].sum()"
   ]
  },
  {
   "cell_type": "code",
   "execution_count": null,
   "metadata": {},
   "outputs": [],
   "source": [
    "def apply(df):\n",
    "    df['Amount'] = df.apply(lambda r: r['Amount'] * 100, axis=1)\n",
    "    return df\n",
    "\n",
    "df = cc_df.copy()\n",
    "%time df = apply(df)\n",
    "df['Amount'].sum()"
   ]
  },
  {
   "cell_type": "code",
   "execution_count": null,
   "metadata": {},
   "outputs": [],
   "source": [
    "def apply_col(df):\n",
    "    df['Amount'] = df['Amount'].apply(lambda a: a * 100)\n",
    "    return df\n",
    "\n",
    "df = cc_df.copy()\n",
    "%time df = apply_col(df)\n",
    "df['Amount'].sum()"
   ]
  },
  {
   "cell_type": "code",
   "execution_count": null,
   "metadata": {},
   "outputs": [],
   "source": [
    "def vectorize(df):\n",
    "    df['Amount'] = df['Amount'] * 100\n",
    "    return df\n",
    "    \n",
    "df = cc_df.copy()\n",
    "%time df = vectorize(df)\n",
    "df['Amount'].sum()"
   ]
  },
  {
   "cell_type": "code",
   "execution_count": null,
   "metadata": {},
   "outputs": [],
   "source": [
    "def vectorize_numpy(df):\n",
    "    df['Amount'] = df['Amount'].values * 100\n",
    "    return df\n",
    "    \n",
    "df = cc_df.copy()\n",
    "%time df = vectorize_numpy(df)\n",
    "df['Amount'].sum()"
   ]
  },
  {
   "cell_type": "markdown",
   "metadata": {},
   "source": [
    "## parallelization"
   ]
  },
  {
   "cell_type": "code",
   "execution_count": null,
   "metadata": {},
   "outputs": [],
   "source": [
    "df = gen_df(1_000_000)\n",
    "%time df['id'].str.contains('C').sum()"
   ]
  },
  {
   "cell_type": "code",
   "execution_count": null,
   "metadata": {},
   "outputs": [],
   "source": [
    "import regex\n",
    "\n",
    "def search(s):\n",
    "    return regex.search('(?<!^C)*C(?!^C)*', s) is not None"
   ]
  },
  {
   "cell_type": "code",
   "execution_count": null,
   "metadata": {},
   "outputs": [],
   "source": [
    "%time df['id'].apply(search).sum()"
   ]
  },
  {
   "cell_type": "markdown",
   "metadata": {},
   "source": [
    "### multiprocessing"
   ]
  },
  {
   "cell_type": "code",
   "execution_count": null,
   "metadata": {},
   "outputs": [],
   "source": [
    "import numpy as np\n",
    "\n",
    "from multiprocessing import Pool as ProcessPool\n",
    "\n",
    "def contains(df):\n",
    "    return df['id'].apply(search).sum()\n",
    "\n",
    "def parallelize():\n",
    "    with ProcessPool(processes=4) as pool:\n",
    "        split = np.array_split(df, 4)\n",
    "        return sum(pool.map(contains, split))\n",
    "\n",
    "%time parallelize()"
   ]
  },
  {
   "cell_type": "code",
   "execution_count": null,
   "metadata": {},
   "outputs": [],
   "source": [
    "from multiprocessing.dummy import Pool as ThreadPool\n",
    "\n",
    "def contains(df):\n",
    "    return df['id'].apply(search).sum()\n",
    "\n",
    "def parallelize_threads():\n",
    "    with ThreadPool(processes=4) as pool:\n",
    "        split = np.array_split(df, 4)\n",
    "        return sum(pool.map(contains, split))\n",
    "\n",
    "%time parallelize_threads()"
   ]
  },
  {
   "cell_type": "code",
   "execution_count": null,
   "metadata": {},
   "outputs": [],
   "source": [
    "from concurrent.futures import ProcessPoolExecutor\n",
    "\n",
    "def concurrent_futures():\n",
    "    with ProcessPoolExecutor(max_workers=4) as executor:\n",
    "        split = np.array_split(df, 4)\n",
    "        return sum(executor.map(contains, split))\n",
    "\n",
    "%time concurrent_futures()"
   ]
  },
  {
   "cell_type": "markdown",
   "metadata": {},
   "source": [
    "### [pandarallel](https://github.com/nalepae/pandarallel/blob/master/pandarallel/dataframe.py#L54)"
   ]
  },
  {
   "cell_type": "code",
   "execution_count": null,
   "metadata": {},
   "outputs": [],
   "source": [
    "from pandarallel import pandarallel\n",
    "pandarallel.initialize()\n",
    "\n",
    "%time df['id'].parallel_apply(search).sum()"
   ]
  },
  {
   "cell_type": "code",
   "execution_count": null,
   "metadata": {},
   "outputs": [],
   "source": []
  }
 ],
 "metadata": {
  "kernelspec": {
   "display_name": "Python 3",
   "language": "python",
   "name": "python3"
  },
  "language_info": {
   "codemirror_mode": {
    "name": "ipython",
    "version": 3
   },
   "file_extension": ".py",
   "mimetype": "text/x-python",
   "name": "python",
   "nbconvert_exporter": "python",
   "pygments_lexer": "ipython3",
   "version": "3.7.1"
  }
 },
 "nbformat": 4,
 "nbformat_minor": 2
}
